{
 "cells": [
  {
   "cell_type": "code",
   "execution_count": 1,
   "id": "33542afa",
   "metadata": {},
   "outputs": [
    {
     "name": "stdout",
     "output_type": "stream",
     "text": [
      "<class 'pandas.core.frame.DataFrame'>\n",
      "RangeIndex: 10845 entries, 0 to 10844\n",
      "Data columns (total 31 columns):\n",
      " #   Column                Non-Null Count  Dtype  \n",
      "---  ------                --------------  -----  \n",
      " 0   id                    10845 non-null  int64  \n",
      " 1   imdb_id               10835 non-null  object \n",
      " 2   popularity            10845 non-null  float64\n",
      " 3   budget                10845 non-null  int64  \n",
      " 4   revenue               10845 non-null  int64  \n",
      " 5   original_title        10845 non-null  object \n",
      " 6   cast                  10750 non-null  object \n",
      " 7   homepage              2953 non-null   object \n",
      " 8   director              10781 non-null  object \n",
      " 9   tagline               8035 non-null   object \n",
      " 10  keywords              9369 non-null   object \n",
      " 11  overview              10841 non-null  object \n",
      " 12  runtime               10844 non-null  object \n",
      " 13  genres                10815 non-null  object \n",
      " 14  production_companies  9831 non-null   object \n",
      " 15  release_date          10844 non-null  object \n",
      " 16  vote_count            10845 non-null  object \n",
      " 17  vote_average          10844 non-null  object \n",
      " 18  release_year          10845 non-null  object \n",
      " 19  budget_adj            10844 non-null  object \n",
      " 20  revenue_adj           10802 non-null  object \n",
      " 21  Unnamed: 21           17 non-null     object \n",
      " 22  Unnamed: 22           12 non-null     object \n",
      " 23  Unnamed: 23           8 non-null      object \n",
      " 24  Unnamed: 24           4 non-null      object \n",
      " 25  Unnamed: 25           4 non-null      object \n",
      " 26  Unnamed: 26           3 non-null      float64\n",
      " 27  Unnamed: 27           3 non-null      float64\n",
      " 28  Unnamed: 28           2 non-null      float64\n",
      " 29  Unnamed: 29           2 non-null      float64\n",
      " 30  Unnamed: 30           1 non-null      float64\n",
      "dtypes: float64(6), int64(3), object(22)\n",
      "memory usage: 2.6+ MB\n"
     ]
    }
   ],
   "source": [
    "import pandas as pd\n",
    "import numpy as np\n",
    "import matplotlib.pyplot as plt\n",
    "import seaborn as sns\n",
    "df=pd.read_csv('tmdb-movies.csv')\n",
    "df.head()\n",
    "df.info()\n"
   ]
  },
  {
   "cell_type": "code",
   "execution_count": 2,
   "id": "19a1a0f5",
   "metadata": {},
   "outputs": [
    {
     "data": {
      "text/plain": [
       "id                        int64\n",
       "imdb_id                  object\n",
       "popularity              float64\n",
       "budget                    int64\n",
       "revenue                   int64\n",
       "original_title           object\n",
       "cast                     object\n",
       "homepage                 object\n",
       "director                 object\n",
       "tagline                  object\n",
       "keywords                 object\n",
       "overview                 object\n",
       "runtime                  object\n",
       "genres                   object\n",
       "production_companies     object\n",
       "release_date             object\n",
       "vote_count               object\n",
       "vote_average             object\n",
       "release_year             object\n",
       "budget_adj               object\n",
       "revenue_adj              object\n",
       "Unnamed: 21              object\n",
       "Unnamed: 22              object\n",
       "Unnamed: 23              object\n",
       "Unnamed: 24              object\n",
       "Unnamed: 25              object\n",
       "Unnamed: 26             float64\n",
       "Unnamed: 27             float64\n",
       "Unnamed: 28             float64\n",
       "Unnamed: 29             float64\n",
       "Unnamed: 30             float64\n",
       "dtype: object"
      ]
     },
     "execution_count": 2,
     "metadata": {},
     "output_type": "execute_result"
    }
   ],
   "source": [
    "df.dtypes"
   ]
  },
  {
   "cell_type": "code",
   "execution_count": 3,
   "id": "bd9bf6e5",
   "metadata": {},
   "outputs": [
    {
     "data": {
      "text/plain": [
       "dtype('float64')"
      ]
     },
     "execution_count": 3,
     "metadata": {},
     "output_type": "execute_result"
    }
   ],
   "source": [
    "df['popularity'].dtype"
   ]
  },
  {
   "cell_type": "code",
   "execution_count": 43,
   "id": "1f724d1f",
   "metadata": {},
   "outputs": [
    {
     "data": {
      "text/plain": [
       "str"
      ]
     },
     "execution_count": 43,
     "metadata": {},
     "output_type": "execute_result"
    }
   ],
   "source": [
    "type(df['release_date'][0])"
   ]
  },
  {
   "cell_type": "code",
   "execution_count": 5,
   "id": "1035de0f",
   "metadata": {},
   "outputs": [],
   "source": [
    "new_data=df[['genres', 'popularity','original_title', 'release_year', 'budget', 'revenue']].dropna(axis=0, how='any')"
   ]
  },
  {
   "cell_type": "code",
   "execution_count": 6,
   "id": "d684068e",
   "metadata": {},
   "outputs": [
    {
     "name": "stdout",
     "output_type": "stream",
     "text": [
      "<class 'pandas.core.frame.DataFrame'>\n",
      "Int64Index: 10815 entries, 0 to 10844\n",
      "Data columns (total 6 columns):\n",
      " #   Column          Non-Null Count  Dtype  \n",
      "---  ------          --------------  -----  \n",
      " 0   genres          10815 non-null  object \n",
      " 1   popularity      10815 non-null  float64\n",
      " 2   original_title  10815 non-null  object \n",
      " 3   release_year    10815 non-null  object \n",
      " 4   budget          10815 non-null  int64  \n",
      " 5   revenue         10815 non-null  int64  \n",
      "dtypes: float64(1), int64(2), object(3)\n",
      "memory usage: 591.4+ KB\n"
     ]
    }
   ],
   "source": [
    "new_data.info()"
   ]
  },
  {
   "cell_type": "code",
   "execution_count": 7,
   "id": "8ade48eb",
   "metadata": {},
   "outputs": [],
   "source": [
    "df_comedy=new_data[new_data['genres'].str.contains(\"Comedy\")]"
   ]
  },
  {
   "cell_type": "code",
   "execution_count": 8,
   "id": "5d8241fc",
   "metadata": {},
   "outputs": [
    {
     "data": {
      "text/html": [
       "<div>\n",
       "<style scoped>\n",
       "    .dataframe tbody tr th:only-of-type {\n",
       "        vertical-align: middle;\n",
       "    }\n",
       "\n",
       "    .dataframe tbody tr th {\n",
       "        vertical-align: top;\n",
       "    }\n",
       "\n",
       "    .dataframe thead th {\n",
       "        text-align: right;\n",
       "    }\n",
       "</style>\n",
       "<table border=\"1\" class=\"dataframe\">\n",
       "  <thead>\n",
       "    <tr style=\"text-align: right;\">\n",
       "      <th></th>\n",
       "      <th>genres</th>\n",
       "      <th>popularity</th>\n",
       "      <th>original_title</th>\n",
       "      <th>release_year</th>\n",
       "      <th>budget</th>\n",
       "      <th>revenue</th>\n",
       "    </tr>\n",
       "  </thead>\n",
       "  <tbody>\n",
       "    <tr>\n",
       "      <th>8</th>\n",
       "      <td>Family|Animation|Adventure|Comedy</td>\n",
       "      <td>7.404165</td>\n",
       "      <td>Minions</td>\n",
       "      <td>2015</td>\n",
       "      <td>74000000</td>\n",
       "      <td>1156730962</td>\n",
       "    </tr>\n",
       "    <tr>\n",
       "      <th>9</th>\n",
       "      <td>Comedy|Animation|Family</td>\n",
       "      <td>6.326804</td>\n",
       "      <td>Inside Out</td>\n",
       "      <td>2015</td>\n",
       "      <td>175000000</td>\n",
       "      <td>853708609</td>\n",
       "    </tr>\n",
       "    <tr>\n",
       "      <th>12</th>\n",
       "      <td>Action|Comedy|Science Fiction</td>\n",
       "      <td>5.984995</td>\n",
       "      <td>Pixels</td>\n",
       "      <td>2015</td>\n",
       "      <td>88000000</td>\n",
       "      <td>243637091</td>\n",
       "    </tr>\n",
       "    <tr>\n",
       "      <th>23</th>\n",
       "      <td>Comedy|Drama</td>\n",
       "      <td>4.648046</td>\n",
       "      <td>The Big Short</td>\n",
       "      <td>2015</td>\n",
       "      <td>28000000</td>\n",
       "      <td>133346506</td>\n",
       "    </tr>\n",
       "    <tr>\n",
       "      <th>25</th>\n",
       "      <td>Comedy</td>\n",
       "      <td>4.564549</td>\n",
       "      <td>Ted 2</td>\n",
       "      <td>2015</td>\n",
       "      <td>68000000</td>\n",
       "      <td>215863606</td>\n",
       "    </tr>\n",
       "    <tr>\n",
       "      <th>...</th>\n",
       "      <td>...</td>\n",
       "      <td>...</td>\n",
       "      <td>...</td>\n",
       "      <td>...</td>\n",
       "      <td>...</td>\n",
       "      <td>...</td>\n",
       "    </tr>\n",
       "    <tr>\n",
       "      <th>10835</th>\n",
       "      <td>Comedy|Drama|Family</td>\n",
       "      <td>0.140934</td>\n",
       "      <td>The Ugly Dachshund</td>\n",
       "      <td>1966</td>\n",
       "      <td>0</td>\n",
       "      <td>0</td>\n",
       "    </tr>\n",
       "    <tr>\n",
       "      <th>10837</th>\n",
       "      <td>Comedy|War</td>\n",
       "      <td>0.317824</td>\n",
       "      <td>The Russians Are Coming, The Russians Are Coming</td>\n",
       "      <td>1966</td>\n",
       "      <td>0</td>\n",
       "      <td>0</td>\n",
       "    </tr>\n",
       "    <tr>\n",
       "      <th>10839</th>\n",
       "      <td>Comedy</td>\n",
       "      <td>0.087034</td>\n",
       "      <td>Carry On Screaming!</td>\n",
       "      <td>1966</td>\n",
       "      <td>0</td>\n",
       "      <td>0</td>\n",
       "    </tr>\n",
       "    <tr>\n",
       "      <th>10842</th>\n",
       "      <td>Mystery|Comedy</td>\n",
       "      <td>0.065141</td>\n",
       "      <td>Beregis Avtomobilya</td>\n",
       "      <td>1966</td>\n",
       "      <td>0</td>\n",
       "      <td>0</td>\n",
       "    </tr>\n",
       "    <tr>\n",
       "      <th>10843</th>\n",
       "      <td>Action|Comedy</td>\n",
       "      <td>0.064317</td>\n",
       "      <td>What's Up, Tiger Lily?</td>\n",
       "      <td>1966</td>\n",
       "      <td>0</td>\n",
       "      <td>0</td>\n",
       "    </tr>\n",
       "  </tbody>\n",
       "</table>\n",
       "<p>3782 rows × 6 columns</p>\n",
       "</div>"
      ],
      "text/plain": [
       "                                  genres  popularity  \\\n",
       "8      Family|Animation|Adventure|Comedy    7.404165   \n",
       "9                Comedy|Animation|Family    6.326804   \n",
       "12         Action|Comedy|Science Fiction    5.984995   \n",
       "23                          Comedy|Drama    4.648046   \n",
       "25                                Comedy    4.564549   \n",
       "...                                  ...         ...   \n",
       "10835                Comedy|Drama|Family    0.140934   \n",
       "10837                         Comedy|War    0.317824   \n",
       "10839                             Comedy    0.087034   \n",
       "10842                     Mystery|Comedy    0.065141   \n",
       "10843                      Action|Comedy    0.064317   \n",
       "\n",
       "                                         original_title release_year  \\\n",
       "8                                               Minions         2015   \n",
       "9                                            Inside Out         2015   \n",
       "12                                               Pixels         2015   \n",
       "23                                        The Big Short         2015   \n",
       "25                                                Ted 2         2015   \n",
       "...                                                 ...          ...   \n",
       "10835                                The Ugly Dachshund         1966   \n",
       "10837  The Russians Are Coming, The Russians Are Coming         1966   \n",
       "10839                               Carry On Screaming!         1966   \n",
       "10842                               Beregis Avtomobilya         1966   \n",
       "10843                            What's Up, Tiger Lily?         1966   \n",
       "\n",
       "          budget     revenue  \n",
       "8       74000000  1156730962  \n",
       "9      175000000   853708609  \n",
       "12      88000000   243637091  \n",
       "23      28000000   133346506  \n",
       "25      68000000   215863606  \n",
       "...          ...         ...  \n",
       "10835          0           0  \n",
       "10837          0           0  \n",
       "10839          0           0  \n",
       "10842          0           0  \n",
       "10843          0           0  \n",
       "\n",
       "[3782 rows x 6 columns]"
      ]
     },
     "execution_count": 8,
     "metadata": {},
     "output_type": "execute_result"
    }
   ],
   "source": [
    "df_comedy"
   ]
  },
  {
   "cell_type": "code",
   "execution_count": 9,
   "id": "ce0112a7",
   "metadata": {},
   "outputs": [],
   "source": [
    "df_action=new_data[new_data['genres'].str.contains(\"Action\")]"
   ]
  },
  {
   "cell_type": "code",
   "execution_count": 10,
   "id": "00b19c61",
   "metadata": {},
   "outputs": [
    {
     "data": {
      "text/html": [
       "<div>\n",
       "<style scoped>\n",
       "    .dataframe tbody tr th:only-of-type {\n",
       "        vertical-align: middle;\n",
       "    }\n",
       "\n",
       "    .dataframe tbody tr th {\n",
       "        vertical-align: top;\n",
       "    }\n",
       "\n",
       "    .dataframe thead th {\n",
       "        text-align: right;\n",
       "    }\n",
       "</style>\n",
       "<table border=\"1\" class=\"dataframe\">\n",
       "  <thead>\n",
       "    <tr style=\"text-align: right;\">\n",
       "      <th></th>\n",
       "      <th>genres</th>\n",
       "      <th>popularity</th>\n",
       "      <th>original_title</th>\n",
       "      <th>release_year</th>\n",
       "      <th>budget</th>\n",
       "      <th>revenue</th>\n",
       "    </tr>\n",
       "  </thead>\n",
       "  <tbody>\n",
       "    <tr>\n",
       "      <th>0</th>\n",
       "      <td>Action|Adventure|Science Fiction|Thriller</td>\n",
       "      <td>32.985763</td>\n",
       "      <td>Jurassic World</td>\n",
       "      <td>2015</td>\n",
       "      <td>150000000</td>\n",
       "      <td>1513528810</td>\n",
       "    </tr>\n",
       "    <tr>\n",
       "      <th>1</th>\n",
       "      <td>Action|Adventure|Science Fiction|Thriller</td>\n",
       "      <td>28.419936</td>\n",
       "      <td>Mad Max: Fury Road</td>\n",
       "      <td>2015</td>\n",
       "      <td>150000000</td>\n",
       "      <td>378436354</td>\n",
       "    </tr>\n",
       "    <tr>\n",
       "      <th>3</th>\n",
       "      <td>Action|Adventure|Science Fiction|Fantasy</td>\n",
       "      <td>11.173104</td>\n",
       "      <td>Star Wars: The Force Awakens</td>\n",
       "      <td>2015</td>\n",
       "      <td>200000000</td>\n",
       "      <td>2068178225</td>\n",
       "    </tr>\n",
       "    <tr>\n",
       "      <th>4</th>\n",
       "      <td>Action|Crime|Thriller</td>\n",
       "      <td>9.335014</td>\n",
       "      <td>Furious 7</td>\n",
       "      <td>2015</td>\n",
       "      <td>190000000</td>\n",
       "      <td>1506249360</td>\n",
       "    </tr>\n",
       "    <tr>\n",
       "      <th>6</th>\n",
       "      <td>Science Fiction|Action|Thriller|Adventure</td>\n",
       "      <td>8.654359</td>\n",
       "      <td>Terminator Genisys</td>\n",
       "      <td>2015</td>\n",
       "      <td>155000000</td>\n",
       "      <td>440603537</td>\n",
       "    </tr>\n",
       "    <tr>\n",
       "      <th>...</th>\n",
       "      <td>...</td>\n",
       "      <td>...</td>\n",
       "      <td>...</td>\n",
       "      <td>...</td>\n",
       "      <td>...</td>\n",
       "      <td>...</td>\n",
       "    </tr>\n",
       "    <tr>\n",
       "      <th>10829</th>\n",
       "      <td>Action|Drama|Thriller|Crime|Mystery</td>\n",
       "      <td>0.202473</td>\n",
       "      <td>Harper</td>\n",
       "      <td>1966</td>\n",
       "      <td>0</td>\n",
       "      <td>0</td>\n",
       "    </tr>\n",
       "    <tr>\n",
       "      <th>10830</th>\n",
       "      <td>Adventure|Drama|Action|Family|Foreign</td>\n",
       "      <td>0.342791</td>\n",
       "      <td>Born Free</td>\n",
       "      <td>1966</td>\n",
       "      <td>0</td>\n",
       "      <td>0</td>\n",
       "    </tr>\n",
       "    <tr>\n",
       "      <th>10836</th>\n",
       "      <td>Action|Western</td>\n",
       "      <td>0.131378</td>\n",
       "      <td>Nevada Smith</td>\n",
       "      <td>1966</td>\n",
       "      <td>0</td>\n",
       "      <td>0</td>\n",
       "    </tr>\n",
       "    <tr>\n",
       "      <th>10841</th>\n",
       "      <td>Action|Adventure|Drama</td>\n",
       "      <td>0.065543</td>\n",
       "      <td>Grand Prix</td>\n",
       "      <td>1966</td>\n",
       "      <td>0</td>\n",
       "      <td>0</td>\n",
       "    </tr>\n",
       "    <tr>\n",
       "      <th>10843</th>\n",
       "      <td>Action|Comedy</td>\n",
       "      <td>0.064317</td>\n",
       "      <td>What's Up, Tiger Lily?</td>\n",
       "      <td>1966</td>\n",
       "      <td>0</td>\n",
       "      <td>0</td>\n",
       "    </tr>\n",
       "  </tbody>\n",
       "</table>\n",
       "<p>2365 rows × 6 columns</p>\n",
       "</div>"
      ],
      "text/plain": [
       "                                          genres  popularity  \\\n",
       "0      Action|Adventure|Science Fiction|Thriller   32.985763   \n",
       "1      Action|Adventure|Science Fiction|Thriller   28.419936   \n",
       "3       Action|Adventure|Science Fiction|Fantasy   11.173104   \n",
       "4                          Action|Crime|Thriller    9.335014   \n",
       "6      Science Fiction|Action|Thriller|Adventure    8.654359   \n",
       "...                                          ...         ...   \n",
       "10829        Action|Drama|Thriller|Crime|Mystery    0.202473   \n",
       "10830      Adventure|Drama|Action|Family|Foreign    0.342791   \n",
       "10836                             Action|Western    0.131378   \n",
       "10841                     Action|Adventure|Drama    0.065543   \n",
       "10843                              Action|Comedy    0.064317   \n",
       "\n",
       "                     original_title release_year     budget     revenue  \n",
       "0                    Jurassic World         2015  150000000  1513528810  \n",
       "1                Mad Max: Fury Road         2015  150000000   378436354  \n",
       "3      Star Wars: The Force Awakens         2015  200000000  2068178225  \n",
       "4                         Furious 7         2015  190000000  1506249360  \n",
       "6                Terminator Genisys         2015  155000000   440603537  \n",
       "...                             ...          ...        ...         ...  \n",
       "10829                        Harper         1966          0           0  \n",
       "10830                     Born Free         1966          0           0  \n",
       "10836                  Nevada Smith         1966          0           0  \n",
       "10841                    Grand Prix         1966          0           0  \n",
       "10843        What's Up, Tiger Lily?         1966          0           0  \n",
       "\n",
       "[2365 rows x 6 columns]"
      ]
     },
     "execution_count": 10,
     "metadata": {},
     "output_type": "execute_result"
    }
   ],
   "source": [
    "df_action"
   ]
  },
  {
   "cell_type": "code",
   "execution_count": 11,
   "id": "f398cfc0",
   "metadata": {},
   "outputs": [],
   "source": [
    "genre_action=np.repeat(\"action\", 2365)"
   ]
  },
  {
   "cell_type": "code",
   "execution_count": 12,
   "id": "941e294f",
   "metadata": {},
   "outputs": [
    {
     "name": "stdout",
     "output_type": "stream",
     "text": [
      "['action' 'action' 'action' ... 'action' 'action' 'action']\n"
     ]
    }
   ],
   "source": [
    "print(genre_action) "
   ]
  },
  {
   "cell_type": "code",
   "execution_count": 13,
   "id": "c860641c",
   "metadata": {},
   "outputs": [],
   "source": [
    "genre_comedy=np.repeat(\"comedy\",3782)"
   ]
  },
  {
   "cell_type": "code",
   "execution_count": 14,
   "id": "94989c41",
   "metadata": {},
   "outputs": [
    {
     "name": "stdout",
     "output_type": "stream",
     "text": [
      "['comedy' 'comedy' 'comedy' ... 'comedy' 'comedy' 'comedy']\n"
     ]
    }
   ],
   "source": [
    "print(genre_comedy)"
   ]
  },
  {
   "cell_type": "code",
   "execution_count": 15,
   "id": "d5df3666",
   "metadata": {},
   "outputs": [
    {
     "name": "stderr",
     "output_type": "stream",
     "text": [
      "<ipython-input-15-3d56ece055a8>:1: SettingWithCopyWarning: \n",
      "A value is trying to be set on a copy of a slice from a DataFrame.\n",
      "Try using .loc[row_indexer,col_indexer] = value instead\n",
      "\n",
      "See the caveats in the documentation: https://pandas.pydata.org/pandas-docs/stable/user_guide/indexing.html#returning-a-view-versus-a-copy\n",
      "  df_comedy['genre'] = genre_comedy\n"
     ]
    }
   ],
   "source": [
    "df_comedy['genre'] = genre_comedy"
   ]
  },
  {
   "cell_type": "code",
   "execution_count": 16,
   "id": "e5f4007e",
   "metadata": {},
   "outputs": [
    {
     "name": "stdout",
     "output_type": "stream",
     "text": [
      "                                  genres  popularity  \\\n",
      "8      Family|Animation|Adventure|Comedy    7.404165   \n",
      "9                Comedy|Animation|Family    6.326804   \n",
      "12         Action|Comedy|Science Fiction    5.984995   \n",
      "23                          Comedy|Drama    4.648046   \n",
      "25                                Comedy    4.564549   \n",
      "...                                  ...         ...   \n",
      "10835                Comedy|Drama|Family    0.140934   \n",
      "10837                         Comedy|War    0.317824   \n",
      "10839                             Comedy    0.087034   \n",
      "10842                     Mystery|Comedy    0.065141   \n",
      "10843                      Action|Comedy    0.064317   \n",
      "\n",
      "                                         original_title release_year  \\\n",
      "8                                               Minions         2015   \n",
      "9                                            Inside Out         2015   \n",
      "12                                               Pixels         2015   \n",
      "23                                        The Big Short         2015   \n",
      "25                                                Ted 2         2015   \n",
      "...                                                 ...          ...   \n",
      "10835                                The Ugly Dachshund         1966   \n",
      "10837  The Russians Are Coming, The Russians Are Coming         1966   \n",
      "10839                               Carry On Screaming!         1966   \n",
      "10842                               Beregis Avtomobilya         1966   \n",
      "10843                            What's Up, Tiger Lily?         1966   \n",
      "\n",
      "          budget     revenue   genre  \n",
      "8       74000000  1156730962  comedy  \n",
      "9      175000000   853708609  comedy  \n",
      "12      88000000   243637091  comedy  \n",
      "23      28000000   133346506  comedy  \n",
      "25      68000000   215863606  comedy  \n",
      "...          ...         ...     ...  \n",
      "10835          0           0  comedy  \n",
      "10837          0           0  comedy  \n",
      "10839          0           0  comedy  \n",
      "10842          0           0  comedy  \n",
      "10843          0           0  comedy  \n",
      "\n",
      "[3782 rows x 7 columns]\n"
     ]
    }
   ],
   "source": [
    "print(df_comedy)"
   ]
  },
  {
   "cell_type": "code",
   "execution_count": 17,
   "id": "2eeb0739",
   "metadata": {},
   "outputs": [
    {
     "name": "stderr",
     "output_type": "stream",
     "text": [
      "<ipython-input-17-6a23bf1e6ee4>:1: SettingWithCopyWarning: \n",
      "A value is trying to be set on a copy of a slice from a DataFrame.\n",
      "Try using .loc[row_indexer,col_indexer] = value instead\n",
      "\n",
      "See the caveats in the documentation: https://pandas.pydata.org/pandas-docs/stable/user_guide/indexing.html#returning-a-view-versus-a-copy\n",
      "  df_action['genre'] = genre_action\n"
     ]
    }
   ],
   "source": [
    "df_action['genre'] = genre_action"
   ]
  },
  {
   "cell_type": "code",
   "execution_count": 18,
   "id": "24d504f1",
   "metadata": {},
   "outputs": [
    {
     "name": "stdout",
     "output_type": "stream",
     "text": [
      "                                          genres  popularity  \\\n",
      "0      Action|Adventure|Science Fiction|Thriller   32.985763   \n",
      "1      Action|Adventure|Science Fiction|Thriller   28.419936   \n",
      "3       Action|Adventure|Science Fiction|Fantasy   11.173104   \n",
      "4                          Action|Crime|Thriller    9.335014   \n",
      "6      Science Fiction|Action|Thriller|Adventure    8.654359   \n",
      "...                                          ...         ...   \n",
      "10829        Action|Drama|Thriller|Crime|Mystery    0.202473   \n",
      "10830      Adventure|Drama|Action|Family|Foreign    0.342791   \n",
      "10836                             Action|Western    0.131378   \n",
      "10841                     Action|Adventure|Drama    0.065543   \n",
      "10843                              Action|Comedy    0.064317   \n",
      "\n",
      "                     original_title release_year     budget     revenue  \\\n",
      "0                    Jurassic World         2015  150000000  1513528810   \n",
      "1                Mad Max: Fury Road         2015  150000000   378436354   \n",
      "3      Star Wars: The Force Awakens         2015  200000000  2068178225   \n",
      "4                         Furious 7         2015  190000000  1506249360   \n",
      "6                Terminator Genisys         2015  155000000   440603537   \n",
      "...                             ...          ...        ...         ...   \n",
      "10829                        Harper         1966          0           0   \n",
      "10830                     Born Free         1966          0           0   \n",
      "10836                  Nevada Smith         1966          0           0   \n",
      "10841                    Grand Prix         1966          0           0   \n",
      "10843        What's Up, Tiger Lily?         1966          0           0   \n",
      "\n",
      "        genre  \n",
      "0      action  \n",
      "1      action  \n",
      "3      action  \n",
      "4      action  \n",
      "6      action  \n",
      "...       ...  \n",
      "10829  action  \n",
      "10830  action  \n",
      "10836  action  \n",
      "10841  action  \n",
      "10843  action  \n",
      "\n",
      "[2365 rows x 7 columns]\n"
     ]
    }
   ],
   "source": [
    "print(df_action)"
   ]
  },
  {
   "cell_type": "code",
   "execution_count": 19,
   "id": "c92ef95c",
   "metadata": {},
   "outputs": [],
   "source": [
    "movie_df=df_action.append(df_comedy)"
   ]
  },
  {
   "cell_type": "code",
   "execution_count": 20,
   "id": "2b88313d",
   "metadata": {},
   "outputs": [
    {
     "name": "stdout",
     "output_type": "stream",
     "text": [
      "                                          genres  popularity  \\\n",
      "0      Action|Adventure|Science Fiction|Thriller   32.985763   \n",
      "1      Action|Adventure|Science Fiction|Thriller   28.419936   \n",
      "3       Action|Adventure|Science Fiction|Fantasy   11.173104   \n",
      "4                          Action|Crime|Thriller    9.335014   \n",
      "6      Science Fiction|Action|Thriller|Adventure    8.654359   \n",
      "...                                          ...         ...   \n",
      "10835                        Comedy|Drama|Family    0.140934   \n",
      "10837                                 Comedy|War    0.317824   \n",
      "10839                                     Comedy    0.087034   \n",
      "10842                             Mystery|Comedy    0.065141   \n",
      "10843                              Action|Comedy    0.064317   \n",
      "\n",
      "                                         original_title release_year  \\\n",
      "0                                        Jurassic World         2015   \n",
      "1                                    Mad Max: Fury Road         2015   \n",
      "3                          Star Wars: The Force Awakens         2015   \n",
      "4                                             Furious 7         2015   \n",
      "6                                    Terminator Genisys         2015   \n",
      "...                                                 ...          ...   \n",
      "10835                                The Ugly Dachshund         1966   \n",
      "10837  The Russians Are Coming, The Russians Are Coming         1966   \n",
      "10839                               Carry On Screaming!         1966   \n",
      "10842                               Beregis Avtomobilya         1966   \n",
      "10843                            What's Up, Tiger Lily?         1966   \n",
      "\n",
      "          budget     revenue   genre  \n",
      "0      150000000  1513528810  action  \n",
      "1      150000000   378436354  action  \n",
      "3      200000000  2068178225  action  \n",
      "4      190000000  1506249360  action  \n",
      "6      155000000   440603537  action  \n",
      "...          ...         ...     ...  \n",
      "10835          0           0  comedy  \n",
      "10837          0           0  comedy  \n",
      "10839          0           0  comedy  \n",
      "10842          0           0  comedy  \n",
      "10843          0           0  comedy  \n",
      "\n",
      "[6147 rows x 7 columns]\n"
     ]
    }
   ],
   "source": [
    "print(movie_df)"
   ]
  },
  {
   "cell_type": "code",
   "execution_count": 39,
   "id": "bef36468",
   "metadata": {},
   "outputs": [
    {
     "data": {
      "text/plain": [
       "Text(0, 0.5, 'revenue')"
      ]
     },
     "execution_count": 39,
     "metadata": {},
     "output_type": "execute_result"
    },
    {
     "data": {
      "image/png": "[encoded data removed]",
      "text/plain": [
       "<Figure size 432x288 with 1 Axes>"
      ]
     },
     "metadata": {
      "needs_background": "light"
     },
     "output_type": "display_data"
    }
   ],
   "source": [
    "colors=['orange','purple']\n",
    "ax=movie_df.groupby('genre').mean()['revenue'].plot(kind='bar', title='Average revenue by genre',color=colors)\n",
    "ax.set_ylabel('revenue')"
   ]
  },
  {
   "cell_type": "code",
   "execution_count": 24,
   "id": "7e0ad637",
   "metadata": {},
   "outputs": [
    {
     "data": {
      "text/plain": [
       "0.384958"
      ]
     },
     "execution_count": 24,
     "metadata": {},
     "output_type": "execute_result"
    }
   ],
   "source": [
    "new_data['popularity'].median()"
   ]
  },
  {
   "cell_type": "code",
   "execution_count": null,
   "id": "ee4ee0f1",
   "metadata": {},
   "outputs": [],
   "source": []
  },
  {
   "cell_type": "code",
   "execution_count": 25,
   "id": "27403599",
   "metadata": {},
   "outputs": [],
   "source": [
    "popularity_high=movie_df.query('popularity >= 0.384958' )"
   ]
  },
  {
   "cell_type": "code",
   "execution_count": null,
   "id": "ede61e5e",
   "metadata": {},
   "outputs": [],
   "source": []
  },
  {
   "cell_type": "code",
   "execution_count": 26,
   "id": "40b91450",
   "metadata": {},
   "outputs": [
    {
     "name": "stdout",
     "output_type": "stream",
     "text": [
      "                                              genres  popularity  \\\n",
      "0          Action|Adventure|Science Fiction|Thriller   32.985763   \n",
      "1          Action|Adventure|Science Fiction|Thriller   28.419936   \n",
      "3           Action|Adventure|Science Fiction|Fantasy   11.173104   \n",
      "4                              Action|Crime|Thriller    9.335014   \n",
      "6          Science Fiction|Action|Thriller|Adventure    8.654359   \n",
      "...                                              ...         ...   \n",
      "10789                  Comedy|Horror|Science Fiction    0.409587   \n",
      "10799                        Animation|Family|Comedy    1.227582   \n",
      "10806  Family|Adventure|Comedy|Science Fiction|Crime    0.410366   \n",
      "10810                                 Romance|Comedy    0.529721   \n",
      "10812                           Comedy|Crime|Romance    0.737730   \n",
      "\n",
      "                        original_title release_year     budget     revenue  \\\n",
      "0                       Jurassic World         2015  150000000  1513528810   \n",
      "1                   Mad Max: Fury Road         2015  150000000   378436354   \n",
      "3         Star Wars: The Force Awakens         2015  200000000  2068178225   \n",
      "4                            Furious 7         2015  190000000  1506249360   \n",
      "6                   Terminator Genisys         2015  155000000   440603537   \n",
      "...                                ...          ...        ...         ...   \n",
      "10789   Attack of the Killer Tomatoes!         1978      90000           0   \n",
      "10799  How the Grinch Stole Christmas!         1966     315000           0   \n",
      "10806                           Batman         1966    1377800           0   \n",
      "10810               The Fortune Cookie         1966          0           0   \n",
      "10812           How to Steal a Million         1966          0           0   \n",
      "\n",
      "        genre  \n",
      "0      action  \n",
      "1      action  \n",
      "3      action  \n",
      "4      action  \n",
      "6      action  \n",
      "...       ...  \n",
      "10789  comedy  \n",
      "10799  comedy  \n",
      "10806  comedy  \n",
      "10810  comedy  \n",
      "10812  comedy  \n",
      "\n",
      "[3327 rows x 7 columns]\n"
     ]
    }
   ],
   "source": [
    "print(popularity_high) "
   ]
  },
  {
   "cell_type": "code",
   "execution_count": 27,
   "id": "f48d9bff",
   "metadata": {},
   "outputs": [],
   "source": [
    "total=new_data.query('popularity>=0.384958').count()['popularity']"
   ]
  },
  {
   "cell_type": "code",
   "execution_count": 28,
   "id": "6ddcca8a",
   "metadata": {},
   "outputs": [
    {
     "name": "stdout",
     "output_type": "stream",
     "text": [
      "5408\n"
     ]
    }
   ],
   "source": [
    "print(total)"
   ]
  },
  {
   "cell_type": "code",
   "execution_count": 29,
   "id": "f3f7234e",
   "metadata": {},
   "outputs": [],
   "source": [
    "genre_high=popularity_high.groupby('genre').count()['popularity']"
   ]
  },
  {
   "cell_type": "code",
   "execution_count": 30,
   "id": "db94c837",
   "metadata": {},
   "outputs": [
    {
     "name": "stdout",
     "output_type": "stream",
     "text": [
      "genre\n",
      "action    1409\n",
      "comedy    1918\n",
      "Name: popularity, dtype: int64\n"
     ]
    }
   ],
   "source": [
    "print(genre_high)"
   ]
  },
  {
   "cell_type": "code",
   "execution_count": 40,
   "id": "a3379dc1",
   "metadata": {},
   "outputs": [
    {
     "data": {
      "text/plain": [
       "Text(0, 0.5, 'proportion')"
      ]
     },
     "execution_count": 40,
     "metadata": {},
     "output_type": "execute_result"
    },
    {
     "data": {
      "image/png": "[encoded data removed]",
      "text/plain": [
       "<Figure size 432x288 with 1 Axes>"
      ]
     },
     "metadata": {
      "needs_background": "light"
     },
     "output_type": "display_data"
    }
   ],
   "source": [
    "colors=['blue','green']\n",
    "total=new_data.query('popularity>=0.384958').count()['popularity']\n",
    "proportions=genre_high/total\n",
    "ax2=proportions.plot(kind=\"bar\", title= 'Popularity Proportion', color=colors) \n",
    "ax2.set_ylabel('proportion')\n"
   ]
  },
  {
   "cell_type": "code",
   "execution_count": 32,
   "id": "b74f2611",
   "metadata": {},
   "outputs": [
    {
     "data": {
      "text/plain": [
       "dtype('int64')"
      ]
     },
     "execution_count": 32,
     "metadata": {},
     "output_type": "execute_result"
    }
   ],
   "source": [
    "df['budget'].dtypes"
   ]
  },
  {
   "cell_type": "code",
   "execution_count": 33,
   "id": "d069e503",
   "metadata": {},
   "outputs": [
    {
     "data": {
      "text/plain": [
       "dtype('int64')"
      ]
     },
     "execution_count": 33,
     "metadata": {},
     "output_type": "execute_result"
    }
   ],
   "source": [
    "df['revenue'].dtypes\n",
    "\n"
   ]
  },
  {
   "cell_type": "code",
   "execution_count": 34,
   "id": "84181437",
   "metadata": {},
   "outputs": [
    {
     "data": {
      "text/plain": [
       "<AxesSubplot:title={'center':'Average revenue by genre'}, xlabel='genre'>"
      ]
     },
     "execution_count": 34,
     "metadata": {},
     "output_type": "execute_result"
    },
    {
     "data": {
      "image/png": "[encoded data removed]",
      "text/plain": [
       "<Figure size 432x288 with 1 Axes>"
      ]
     },
     "metadata": {
      "needs_background": "light"
     },
     "output_type": "display_data"
    }
   ],
   "source": [
    "colors=['orange','purple']\n",
    "movie_df.groupby('genre').mean()['revenue'].plot(kind='bar', title='Average revenue by genre',color=colors)\n"
   ]
  },
  {
   "cell_type": "code",
   "execution_count": 35,
   "id": "173e60d3",
   "metadata": {},
   "outputs": [
    {
     "data": {
      "text/plain": [
       "<AxesSubplot:title={'center':'Average budget by genre'}, xlabel='genre'>"
      ]
     },
     "execution_count": 35,
     "metadata": {},
     "output_type": "execute_result"
    },
    {
     "data": {
      "image/png": "[encoded data removed]",
      "text/plain": [
       "<Figure size 432x288 with 1 Axes>"
      ]
     },
     "metadata": {
      "needs_background": "light"
     },
     "output_type": "display_data"
    }
   ],
   "source": [
    "colors=['grey','grey']\n",
    "movie_df.groupby('genre').mean()['budget'].plot(kind='bar', title='Average budget by genre',color=colors)\n"
   ]
  },
  {
   "cell_type": "code",
   "execution_count": 36,
   "id": "d002c1c2",
   "metadata": {
    "scrolled": true
   },
   "outputs": [
    {
     "data": {
      "text/plain": [
       "<AxesSubplot:title={'center':'movie profits'}, xlabel='genre'>"
      ]
     },
     "execution_count": 36,
     "metadata": {},
     "output_type": "execute_result"
    },
    {
     "data": {
      "image/png": "[encoded data removed]",
      "text/plain": [
       "<Figure size 432x288 with 1 Axes>"
      ]
     },
     "metadata": {
      "needs_background": "light"
     },
     "output_type": "display_data"
    }
   ],
   "source": [
    "colors=['blue','yellow']\n",
    "profit=movie_df.groupby('genre').mean()['revenue']-movie_df.groupby('genre').mean()['budget']\n",
    "profit.plot(kind=\"bar\",title= \"movie profits\",color=colors)\n",
    "\n"
   ]
  }
 ],
 "metadata": {
  "kernelspec": {
   "display_name": "Python 3",
   "language": "python",
   "name": "python3"
  },
  "language_info": {
   "codemirror_mode": {
    "name": "ipython",
    "version": 3
   },
   "file_extension": ".py",
   "mimetype": "text/x-python",
   "name": "python",
   "nbconvert_exporter": "python",
   "pygments_lexer": "ipython3",
   "version": "3.8.8"
  }
 },
 "nbformat": 4,
 "nbformat_minor": 5
}
