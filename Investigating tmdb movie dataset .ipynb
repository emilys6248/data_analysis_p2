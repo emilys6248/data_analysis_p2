{
 "cells": [
  {
   "cell_type": "markdown",
   "id": "50f62e9d",
   "metadata": {},
   "source": [
    "# Project: Investigating tmdb-movie dataset\n",
    "\n",
    "## Table of Contents\n",
    "<ul>\n",
    "<li><a href=\"#intro\">Introduction</a></li>\n",
    "<li><a href=\"#wrangling\">Data Wrangling</a></li>\n",
    "<li><a href=\"#eda\">Exploratory Data Analysis</a></li>\n",
    "<li><a href=\"#conclusions\">Conclusions</a></li>\n",
    "</ul>\n"
   ]
  },
  {
   "cell_type": "markdown",
   "id": "d23c1443",
   "metadata": {},
   "source": [
    "## Introduction\n",
    "\n",
    "The dataset I choose to analyze is tmdb-movie dataset. When I was exploring the data set, I have some questions. First, which genre receive higher revenue, action or comedy? Second, which one is more likely to have higher popularity, comedy or action? To build my report. I need some dependent variables and independent variables. Here, revenue and popularity are my dependent variables. Genres, original title, release time, budget are indenpendent variables."
   ]
  },
  {
   "cell_type": "markdown",
   "id": "27fd0af8",
   "metadata": {},
   "source": [
    "#Cell below are all packages that I plan to use for my analysis"
   ]
  },
  {
   "cell_type": "code",
   "execution_count": 1,
   "id": "656d10f1",
   "metadata": {},
   "outputs": [],
   "source": [
    "import pandas as pd\n",
    "import numpy as np\n",
    "import matplotlib.pyplot as plt\n",
    "import seaborn as sns"
   ]
  },
  {
   "cell_type": "code",
   "execution_count": 2,
   "id": "67705fd8",
   "metadata": {},
   "outputs": [],
   "source": [
    "df=pd.read_csv('tmdb-movies.csv')"
   ]
  },
  {
   "cell_type": "markdown",
   "id": "f18d723d",
   "metadata": {},
   "source": [
    "<a id='wrangling'></a>\n",
    "## Data Wrangling\n",
    " \n",
    "After looking at the several rows of the data set, checking the null value and data type of each variable, I found the popularity is float and revenue is int. So I don't need worry about the data type of these 2 variables. Variable genres has 30 missing value. I cannot just randomly assign any values or assign any genre to it. So I choose to drop the rows that has no genre speicified by dropna() function. Becuase variables such as original title, release_year have no null value, I don't need worry about these two variables when I use the dropna() function. "
   ]
  },
  {
   "cell_type": "code",
   "execution_count": 3,
   "id": "3a8100df",
   "metadata": {},
   "outputs": [
    {
     "data": {
      "text/html": [
       "<div>\n",
       "<style scoped>\n",
       "    .dataframe tbody tr th:only-of-type {\n",
       "        vertical-align: middle;\n",
       "    }\n",
       "\n",
       "    .dataframe tbody tr th {\n",
       "        vertical-align: top;\n",
       "    }\n",
       "\n",
       "    .dataframe thead th {\n",
       "        text-align: right;\n",
       "    }\n",
       "</style>\n",
       "<table border=\"1\" class=\"dataframe\">\n",
       "  <thead>\n",
       "    <tr style=\"text-align: right;\">\n",
       "      <th></th>\n",
       "      <th>id</th>\n",
       "      <th>imdb_id</th>\n",
       "      <th>popularity</th>\n",
       "      <th>budget</th>\n",
       "      <th>revenue</th>\n",
       "      <th>original_title</th>\n",
       "      <th>cast</th>\n",
       "      <th>homepage</th>\n",
       "      <th>director</th>\n",
       "      <th>tagline</th>\n",
       "      <th>...</th>\n",
       "      <th>Unnamed: 21</th>\n",
       "      <th>Unnamed: 22</th>\n",
       "      <th>Unnamed: 23</th>\n",
       "      <th>Unnamed: 24</th>\n",
       "      <th>Unnamed: 25</th>\n",
       "      <th>Unnamed: 26</th>\n",
       "      <th>Unnamed: 27</th>\n",
       "      <th>Unnamed: 28</th>\n",
       "      <th>Unnamed: 29</th>\n",
       "      <th>Unnamed: 30</th>\n",
       "    </tr>\n",
       "  </thead>\n",
       "  <tbody>\n",
       "    <tr>\n",
       "      <th>0</th>\n",
       "      <td>135397</td>\n",
       "      <td>tt0369610</td>\n",
       "      <td>32.985763</td>\n",
       "      <td>150000000</td>\n",
       "      <td>1513528810</td>\n",
       "      <td>Jurassic World</td>\n",
       "      <td>Chris Pratt|Bryce Dallas Howard|Irrfan Khan|Vi...</td>\n",
       "      <td>http://www.jurassicworld.com/</td>\n",
       "      <td>Colin Trevorrow</td>\n",
       "      <td>The park is open.</td>\n",
       "      <td>...</td>\n",
       "      <td>NaN</td>\n",
       "      <td>NaN</td>\n",
       "      <td>NaN</td>\n",
       "      <td>NaN</td>\n",
       "      <td>NaN</td>\n",
       "      <td>NaN</td>\n",
       "      <td>NaN</td>\n",
       "      <td>NaN</td>\n",
       "      <td>NaN</td>\n",
       "      <td>NaN</td>\n",
       "    </tr>\n",
       "    <tr>\n",
       "      <th>1</th>\n",
       "      <td>76341</td>\n",
       "      <td>tt1392190</td>\n",
       "      <td>28.419936</td>\n",
       "      <td>150000000</td>\n",
       "      <td>378436354</td>\n",
       "      <td>Mad Max: Fury Road</td>\n",
       "      <td>Tom Hardy|Charlize Theron|Hugh Keays-Byrne|Nic...</td>\n",
       "      <td>http://www.madmaxmovie.com/</td>\n",
       "      <td>George Miller</td>\n",
       "      <td>What a Lovely Day.</td>\n",
       "      <td>...</td>\n",
       "      <td>NaN</td>\n",
       "      <td>NaN</td>\n",
       "      <td>NaN</td>\n",
       "      <td>NaN</td>\n",
       "      <td>NaN</td>\n",
       "      <td>NaN</td>\n",
       "      <td>NaN</td>\n",
       "      <td>NaN</td>\n",
       "      <td>NaN</td>\n",
       "      <td>NaN</td>\n",
       "    </tr>\n",
       "    <tr>\n",
       "      <th>2</th>\n",
       "      <td>262500</td>\n",
       "      <td>tt2908446</td>\n",
       "      <td>13.112507</td>\n",
       "      <td>110000000</td>\n",
       "      <td>295238201</td>\n",
       "      <td>Insurgent</td>\n",
       "      <td>Shailene Woodley|Theo James|Kate Winslet|Ansel...</td>\n",
       "      <td>http://www.thedivergentseries.movie/#insurgent</td>\n",
       "      <td>Robert Schwentke</td>\n",
       "      <td>One Choice Can Destroy You</td>\n",
       "      <td>...</td>\n",
       "      <td>NaN</td>\n",
       "      <td>NaN</td>\n",
       "      <td>NaN</td>\n",
       "      <td>NaN</td>\n",
       "      <td>NaN</td>\n",
       "      <td>NaN</td>\n",
       "      <td>NaN</td>\n",
       "      <td>NaN</td>\n",
       "      <td>NaN</td>\n",
       "      <td>NaN</td>\n",
       "    </tr>\n",
       "    <tr>\n",
       "      <th>3</th>\n",
       "      <td>140607</td>\n",
       "      <td>tt2488496</td>\n",
       "      <td>11.173104</td>\n",
       "      <td>200000000</td>\n",
       "      <td>2068178225</td>\n",
       "      <td>Star Wars: The Force Awakens</td>\n",
       "      <td>Harrison Ford|Mark Hamill|Carrie Fisher|Adam D...</td>\n",
       "      <td>http://www.starwars.com/films/star-wars-episod...</td>\n",
       "      <td>J.J. Abrams</td>\n",
       "      <td>Every generation has a story.</td>\n",
       "      <td>...</td>\n",
       "      <td>NaN</td>\n",
       "      <td>NaN</td>\n",
       "      <td>NaN</td>\n",
       "      <td>NaN</td>\n",
       "      <td>NaN</td>\n",
       "      <td>NaN</td>\n",
       "      <td>NaN</td>\n",
       "      <td>NaN</td>\n",
       "      <td>NaN</td>\n",
       "      <td>NaN</td>\n",
       "    </tr>\n",
       "    <tr>\n",
       "      <th>4</th>\n",
       "      <td>168259</td>\n",
       "      <td>tt2820852</td>\n",
       "      <td>9.335014</td>\n",
       "      <td>190000000</td>\n",
       "      <td>1506249360</td>\n",
       "      <td>Furious 7</td>\n",
       "      <td>Vin Diesel|Paul Walker|Jason Statham|Michelle ...</td>\n",
       "      <td>http://www.furious7.com/</td>\n",
       "      <td>James Wan</td>\n",
       "      <td>Vengeance Hits Home</td>\n",
       "      <td>...</td>\n",
       "      <td>NaN</td>\n",
       "      <td>NaN</td>\n",
       "      <td>NaN</td>\n",
       "      <td>NaN</td>\n",
       "      <td>NaN</td>\n",
       "      <td>NaN</td>\n",
       "      <td>NaN</td>\n",
       "      <td>NaN</td>\n",
       "      <td>NaN</td>\n",
       "      <td>NaN</td>\n",
       "    </tr>\n",
       "  </tbody>\n",
       "</table>\n",
       "<p>5 rows × 31 columns</p>\n",
       "</div>"
      ],
      "text/plain": [
       "       id    imdb_id  popularity     budget     revenue  \\\n",
       "0  135397  tt0369610   32.985763  150000000  1513528810   \n",
       "1   76341  tt1392190   28.419936  150000000   378436354   \n",
       "2  262500  tt2908446   13.112507  110000000   295238201   \n",
       "3  140607  tt2488496   11.173104  200000000  2068178225   \n",
       "4  168259  tt2820852    9.335014  190000000  1506249360   \n",
       "\n",
       "                 original_title  \\\n",
       "0                Jurassic World   \n",
       "1            Mad Max: Fury Road   \n",
       "2                     Insurgent   \n",
       "3  Star Wars: The Force Awakens   \n",
       "4                     Furious 7   \n",
       "\n",
       "                                                cast  \\\n",
       "0  Chris Pratt|Bryce Dallas Howard|Irrfan Khan|Vi...   \n",
       "1  Tom Hardy|Charlize Theron|Hugh Keays-Byrne|Nic...   \n",
       "2  Shailene Woodley|Theo James|Kate Winslet|Ansel...   \n",
       "3  Harrison Ford|Mark Hamill|Carrie Fisher|Adam D...   \n",
       "4  Vin Diesel|Paul Walker|Jason Statham|Michelle ...   \n",
       "\n",
       "                                            homepage          director  \\\n",
       "0                      http://www.jurassicworld.com/   Colin Trevorrow   \n",
       "1                        http://www.madmaxmovie.com/     George Miller   \n",
       "2     http://www.thedivergentseries.movie/#insurgent  Robert Schwentke   \n",
       "3  http://www.starwars.com/films/star-wars-episod...       J.J. Abrams   \n",
       "4                           http://www.furious7.com/         James Wan   \n",
       "\n",
       "                         tagline  ... Unnamed: 21 Unnamed: 22 Unnamed: 23  \\\n",
       "0              The park is open.  ...         NaN         NaN         NaN   \n",
       "1             What a Lovely Day.  ...         NaN         NaN         NaN   \n",
       "2     One Choice Can Destroy You  ...         NaN         NaN         NaN   \n",
       "3  Every generation has a story.  ...         NaN         NaN         NaN   \n",
       "4            Vengeance Hits Home  ...         NaN         NaN         NaN   \n",
       "\n",
       "  Unnamed: 24 Unnamed: 25 Unnamed: 26 Unnamed: 27 Unnamed: 28 Unnamed: 29  \\\n",
       "0         NaN         NaN         NaN         NaN         NaN         NaN   \n",
       "1         NaN         NaN         NaN         NaN         NaN         NaN   \n",
       "2         NaN         NaN         NaN         NaN         NaN         NaN   \n",
       "3         NaN         NaN         NaN         NaN         NaN         NaN   \n",
       "4         NaN         NaN         NaN         NaN         NaN         NaN   \n",
       "\n",
       "  Unnamed: 30  \n",
       "0         NaN  \n",
       "1         NaN  \n",
       "2         NaN  \n",
       "3         NaN  \n",
       "4         NaN  \n",
       "\n",
       "[5 rows x 31 columns]"
      ]
     },
     "execution_count": 3,
     "metadata": {},
     "output_type": "execute_result"
    }
   ],
   "source": [
    "df.head()"
   ]
  },
  {
   "cell_type": "code",
   "execution_count": 37,
   "id": "ac6ce899",
   "metadata": {},
   "outputs": [
    {
     "name": "stdout",
     "output_type": "stream",
     "text": [
      "<class 'pandas.core.frame.DataFrame'>\n",
      "RangeIndex: 10845 entries, 0 to 10844\n",
      "Data columns (total 31 columns):\n",
      " #   Column                Non-Null Count  Dtype  \n",
      "---  ------                --------------  -----  \n",
      " 0   id                    10845 non-null  int64  \n",
      " 1   imdb_id               10835 non-null  object \n",
      " 2   popularity            10845 non-null  float64\n",
      " 3   budget                10845 non-null  int64  \n",
      " 4   revenue               10845 non-null  int64  \n",
      " 5   original_title        10845 non-null  object \n",
      " 6   cast                  10750 non-null  object \n",
      " 7   homepage              2953 non-null   object \n",
      " 8   director              10781 non-null  object \n",
      " 9   tagline               8035 non-null   object \n",
      " 10  keywords              9369 non-null   object \n",
      " 11  overview              10841 non-null  object \n",
      " 12  runtime               10844 non-null  object \n",
      " 13  genres                10815 non-null  object \n",
      " 14  production_companies  9831 non-null   object \n",
      " 15  release_date          10844 non-null  object \n",
      " 16  vote_count            10845 non-null  object \n",
      " 17  vote_average          10844 non-null  object \n",
      " 18  release_year          10845 non-null  object \n",
      " 19  budget_adj            10844 non-null  object \n",
      " 20  revenue_adj           10802 non-null  object \n",
      " 21  Unnamed: 21           17 non-null     object \n",
      " 22  Unnamed: 22           12 non-null     object \n",
      " 23  Unnamed: 23           8 non-null      object \n",
      " 24  Unnamed: 24           4 non-null      object \n",
      " 25  Unnamed: 25           4 non-null      object \n",
      " 26  Unnamed: 26           3 non-null      float64\n",
      " 27  Unnamed: 27           3 non-null      float64\n",
      " 28  Unnamed: 28           2 non-null      float64\n",
      " 29  Unnamed: 29           2 non-null      float64\n",
      " 30  Unnamed: 30           1 non-null      float64\n",
      "dtypes: float64(6), int64(3), object(22)\n",
      "memory usage: 2.6+ MB\n"
     ]
    }
   ],
   "source": [
    "df.info()"
   ]
  },
  {
   "cell_type": "code",
   "execution_count": 5,
   "id": "d516f113",
   "metadata": {},
   "outputs": [
    {
     "data": {
      "text/plain": [
       "id                        int64\n",
       "imdb_id                  object\n",
       "popularity              float64\n",
       "budget                    int64\n",
       "revenue                   int64\n",
       "original_title           object\n",
       "cast                     object\n",
       "homepage                 object\n",
       "director                 object\n",
       "tagline                  object\n",
       "keywords                 object\n",
       "overview                 object\n",
       "runtime                  object\n",
       "genres                   object\n",
       "production_companies     object\n",
       "release_date             object\n",
       "vote_count               object\n",
       "vote_average             object\n",
       "release_year             object\n",
       "budget_adj               object\n",
       "revenue_adj              object\n",
       "Unnamed: 21              object\n",
       "Unnamed: 22              object\n",
       "Unnamed: 23              object\n",
       "Unnamed: 24              object\n",
       "Unnamed: 25              object\n",
       "Unnamed: 26             float64\n",
       "Unnamed: 27             float64\n",
       "Unnamed: 28             float64\n",
       "Unnamed: 29             float64\n",
       "Unnamed: 30             float64\n",
       "dtype: object"
      ]
     },
     "execution_count": 5,
     "metadata": {},
     "output_type": "execute_result"
    }
   ],
   "source": [
    "df.dtypes"
   ]
  },
  {
   "cell_type": "code",
   "execution_count": 6,
   "id": "a22b926e",
   "metadata": {},
   "outputs": [
    {
     "data": {
      "text/plain": [
       "str"
      ]
     },
     "execution_count": 6,
     "metadata": {},
     "output_type": "execute_result"
    }
   ],
   "source": [
    "type(df['release_date'][0])"
   ]
  },
  {
   "cell_type": "code",
   "execution_count": 7,
   "id": "54aed233",
   "metadata": {},
   "outputs": [],
   "source": [
    "new_data=df[['genres', 'popularity', 'original_title','release_year','revenue']].dropna(axis=0, how='any')"
   ]
  },
  {
   "cell_type": "code",
   "execution_count": 8,
   "id": "cde98c3b",
   "metadata": {},
   "outputs": [
    {
     "name": "stdout",
     "output_type": "stream",
     "text": [
      "<class 'pandas.core.frame.DataFrame'>\n",
      "Int64Index: 10815 entries, 0 to 10844\n",
      "Data columns (total 6 columns):\n",
      " #   Column          Non-Null Count  Dtype  \n",
      "---  ------          --------------  -----  \n",
      " 0   genres          10815 non-null  object \n",
      " 1   popularity      10815 non-null  float64\n",
      " 2   original_title  10815 non-null  object \n",
      " 3   release_year    10815 non-null  object \n",
      " 4   budget          10815 non-null  int64  \n",
      " 5   revenue         10815 non-null  int64  \n",
      "dtypes: float64(1), int64(2), object(3)\n",
      "memory usage: 591.4+ KB\n"
     ]
    }
   ],
   "source": [
    "new_data.info()"
   ]
  },
  {
   "cell_type": "code",
   "execution_count": 9,
   "id": "b443d6ea",
   "metadata": {},
   "outputs": [
    {
     "name": "stdout",
     "output_type": "stream",
     "text": [
      "                                          genres  popularity  \\\n",
      "0      Action|Adventure|Science Fiction|Thriller   32.985763   \n",
      "1      Action|Adventure|Science Fiction|Thriller   28.419936   \n",
      "2             Adventure|Science Fiction|Thriller   13.112507   \n",
      "3       Action|Adventure|Science Fiction|Fantasy   11.173104   \n",
      "4                          Action|Crime|Thriller    9.335014   \n",
      "...                                          ...         ...   \n",
      "10840                                Documentary    0.080598   \n",
      "10841                     Action|Adventure|Drama    0.065543   \n",
      "10842                             Mystery|Comedy    0.065141   \n",
      "10843                              Action|Comedy    0.064317   \n",
      "10844                                     Horror    0.035919   \n",
      "\n",
      "                     original_title release_year     budget     revenue  \n",
      "0                    Jurassic World         2015  150000000  1513528810  \n",
      "1                Mad Max: Fury Road         2015  150000000   378436354  \n",
      "2                         Insurgent         2015  110000000   295238201  \n",
      "3      Star Wars: The Force Awakens         2015  200000000  2068178225  \n",
      "4                         Furious 7         2015  190000000  1506249360  \n",
      "...                             ...          ...        ...         ...  \n",
      "10840            The Endless Summer         1966          0           0  \n",
      "10841                    Grand Prix         1966          0           0  \n",
      "10842           Beregis Avtomobilya         1966          0           0  \n",
      "10843        What's Up, Tiger Lily?         1966          0           0  \n",
      "10844      Manos: The Hands of Fate         1966      19000           0  \n",
      "\n",
      "[10815 rows x 6 columns]\n"
     ]
    }
   ],
   "source": [
    "print(new_data)"
   ]
  },
  {
   "cell_type": "markdown",
   "id": "f1c7f3f6",
   "metadata": {},
   "source": [
    "#To do the comparsion between comedy and Action movie, I need to create a dataset that only has comedy and acttion movie. I use the str.contain() fucntion to find any word related to 'Action' and 'comedy' in the column genre. Becuase most movies have combination of several genres. It is hard for me to do analysis. So I decide to separte the genre out. So I create two new data sets named action_df and comedy_df. I also create a new column called genre in both data sets for later combination of two data sets"
   ]
  },
  {
   "cell_type": "code",
   "execution_count": 11,
   "id": "12729ee7",
   "metadata": {},
   "outputs": [],
   "source": [
    "action_df=new_data[new_data['genres'].str.contains(\"Action\")]"
   ]
  },
  {
   "cell_type": "code",
   "execution_count": 12,
   "id": "b32ecdab",
   "metadata": {},
   "outputs": [
    {
     "data": {
      "text/html": [
       "<div>\n",
       "<style scoped>\n",
       "    .dataframe tbody tr th:only-of-type {\n",
       "        vertical-align: middle;\n",
       "    }\n",
       "\n",
       "    .dataframe tbody tr th {\n",
       "        vertical-align: top;\n",
       "    }\n",
       "\n",
       "    .dataframe thead th {\n",
       "        text-align: right;\n",
       "    }\n",
       "</style>\n",
       "<table border=\"1\" class=\"dataframe\">\n",
       "  <thead>\n",
       "    <tr style=\"text-align: right;\">\n",
       "      <th></th>\n",
       "      <th>genres</th>\n",
       "      <th>popularity</th>\n",
       "      <th>original_title</th>\n",
       "      <th>release_year</th>\n",
       "      <th>budget</th>\n",
       "      <th>revenue</th>\n",
       "    </tr>\n",
       "  </thead>\n",
       "  <tbody>\n",
       "    <tr>\n",
       "      <th>0</th>\n",
       "      <td>Action|Adventure|Science Fiction|Thriller</td>\n",
       "      <td>32.985763</td>\n",
       "      <td>Jurassic World</td>\n",
       "      <td>2015</td>\n",
       "      <td>150000000</td>\n",
       "      <td>1513528810</td>\n",
       "    </tr>\n",
       "    <tr>\n",
       "      <th>1</th>\n",
       "      <td>Action|Adventure|Science Fiction|Thriller</td>\n",
       "      <td>28.419936</td>\n",
       "      <td>Mad Max: Fury Road</td>\n",
       "      <td>2015</td>\n",
       "      <td>150000000</td>\n",
       "      <td>378436354</td>\n",
       "    </tr>\n",
       "    <tr>\n",
       "      <th>3</th>\n",
       "      <td>Action|Adventure|Science Fiction|Fantasy</td>\n",
       "      <td>11.173104</td>\n",
       "      <td>Star Wars: The Force Awakens</td>\n",
       "      <td>2015</td>\n",
       "      <td>200000000</td>\n",
       "      <td>2068178225</td>\n",
       "    </tr>\n",
       "    <tr>\n",
       "      <th>4</th>\n",
       "      <td>Action|Crime|Thriller</td>\n",
       "      <td>9.335014</td>\n",
       "      <td>Furious 7</td>\n",
       "      <td>2015</td>\n",
       "      <td>190000000</td>\n",
       "      <td>1506249360</td>\n",
       "    </tr>\n",
       "    <tr>\n",
       "      <th>6</th>\n",
       "      <td>Science Fiction|Action|Thriller|Adventure</td>\n",
       "      <td>8.654359</td>\n",
       "      <td>Terminator Genisys</td>\n",
       "      <td>2015</td>\n",
       "      <td>155000000</td>\n",
       "      <td>440603537</td>\n",
       "    </tr>\n",
       "    <tr>\n",
       "      <th>...</th>\n",
       "      <td>...</td>\n",
       "      <td>...</td>\n",
       "      <td>...</td>\n",
       "      <td>...</td>\n",
       "      <td>...</td>\n",
       "      <td>...</td>\n",
       "    </tr>\n",
       "    <tr>\n",
       "      <th>10829</th>\n",
       "      <td>Action|Drama|Thriller|Crime|Mystery</td>\n",
       "      <td>0.202473</td>\n",
       "      <td>Harper</td>\n",
       "      <td>1966</td>\n",
       "      <td>0</td>\n",
       "      <td>0</td>\n",
       "    </tr>\n",
       "    <tr>\n",
       "      <th>10830</th>\n",
       "      <td>Adventure|Drama|Action|Family|Foreign</td>\n",
       "      <td>0.342791</td>\n",
       "      <td>Born Free</td>\n",
       "      <td>1966</td>\n",
       "      <td>0</td>\n",
       "      <td>0</td>\n",
       "    </tr>\n",
       "    <tr>\n",
       "      <th>10836</th>\n",
       "      <td>Action|Western</td>\n",
       "      <td>0.131378</td>\n",
       "      <td>Nevada Smith</td>\n",
       "      <td>1966</td>\n",
       "      <td>0</td>\n",
       "      <td>0</td>\n",
       "    </tr>\n",
       "    <tr>\n",
       "      <th>10841</th>\n",
       "      <td>Action|Adventure|Drama</td>\n",
       "      <td>0.065543</td>\n",
       "      <td>Grand Prix</td>\n",
       "      <td>1966</td>\n",
       "      <td>0</td>\n",
       "      <td>0</td>\n",
       "    </tr>\n",
       "    <tr>\n",
       "      <th>10843</th>\n",
       "      <td>Action|Comedy</td>\n",
       "      <td>0.064317</td>\n",
       "      <td>What's Up, Tiger Lily?</td>\n",
       "      <td>1966</td>\n",
       "      <td>0</td>\n",
       "      <td>0</td>\n",
       "    </tr>\n",
       "  </tbody>\n",
       "</table>\n",
       "<p>2365 rows × 6 columns</p>\n",
       "</div>"
      ],
      "text/plain": [
       "                                          genres  popularity  \\\n",
       "0      Action|Adventure|Science Fiction|Thriller   32.985763   \n",
       "1      Action|Adventure|Science Fiction|Thriller   28.419936   \n",
       "3       Action|Adventure|Science Fiction|Fantasy   11.173104   \n",
       "4                          Action|Crime|Thriller    9.335014   \n",
       "6      Science Fiction|Action|Thriller|Adventure    8.654359   \n",
       "...                                          ...         ...   \n",
       "10829        Action|Drama|Thriller|Crime|Mystery    0.202473   \n",
       "10830      Adventure|Drama|Action|Family|Foreign    0.342791   \n",
       "10836                             Action|Western    0.131378   \n",
       "10841                     Action|Adventure|Drama    0.065543   \n",
       "10843                              Action|Comedy    0.064317   \n",
       "\n",
       "                     original_title release_year     budget     revenue  \n",
       "0                    Jurassic World         2015  150000000  1513528810  \n",
       "1                Mad Max: Fury Road         2015  150000000   378436354  \n",
       "3      Star Wars: The Force Awakens         2015  200000000  2068178225  \n",
       "4                         Furious 7         2015  190000000  1506249360  \n",
       "6                Terminator Genisys         2015  155000000   440603537  \n",
       "...                             ...          ...        ...         ...  \n",
       "10829                        Harper         1966          0           0  \n",
       "10830                     Born Free         1966          0           0  \n",
       "10836                  Nevada Smith         1966          0           0  \n",
       "10841                    Grand Prix         1966          0           0  \n",
       "10843        What's Up, Tiger Lily?         1966          0           0  \n",
       "\n",
       "[2365 rows x 6 columns]"
      ]
     },
     "execution_count": 12,
     "metadata": {},
     "output_type": "execute_result"
    }
   ],
   "source": [
    "action_df"
   ]
  },
  {
   "cell_type": "code",
   "execution_count": 13,
   "id": "4d2e881b",
   "metadata": {},
   "outputs": [],
   "source": [
    "comedy_df=new_data[new_data['genres'].str.contains(\"Comedy\")]"
   ]
  },
  {
   "cell_type": "code",
   "execution_count": 14,
   "id": "358ccdcf",
   "metadata": {},
   "outputs": [
    {
     "data": {
      "text/html": [
       "<div>\n",
       "<style scoped>\n",
       "    .dataframe tbody tr th:only-of-type {\n",
       "        vertical-align: middle;\n",
       "    }\n",
       "\n",
       "    .dataframe tbody tr th {\n",
       "        vertical-align: top;\n",
       "    }\n",
       "\n",
       "    .dataframe thead th {\n",
       "        text-align: right;\n",
       "    }\n",
       "</style>\n",
       "<table border=\"1\" class=\"dataframe\">\n",
       "  <thead>\n",
       "    <tr style=\"text-align: right;\">\n",
       "      <th></th>\n",
       "      <th>genres</th>\n",
       "      <th>popularity</th>\n",
       "      <th>original_title</th>\n",
       "      <th>release_year</th>\n",
       "      <th>budget</th>\n",
       "      <th>revenue</th>\n",
       "    </tr>\n",
       "  </thead>\n",
       "  <tbody>\n",
       "    <tr>\n",
       "      <th>8</th>\n",
       "      <td>Family|Animation|Adventure|Comedy</td>\n",
       "      <td>7.404165</td>\n",
       "      <td>Minions</td>\n",
       "      <td>2015</td>\n",
       "      <td>74000000</td>\n",
       "      <td>1156730962</td>\n",
       "    </tr>\n",
       "    <tr>\n",
       "      <th>9</th>\n",
       "      <td>Comedy|Animation|Family</td>\n",
       "      <td>6.326804</td>\n",
       "      <td>Inside Out</td>\n",
       "      <td>2015</td>\n",
       "      <td>175000000</td>\n",
       "      <td>853708609</td>\n",
       "    </tr>\n",
       "    <tr>\n",
       "      <th>12</th>\n",
       "      <td>Action|Comedy|Science Fiction</td>\n",
       "      <td>5.984995</td>\n",
       "      <td>Pixels</td>\n",
       "      <td>2015</td>\n",
       "      <td>88000000</td>\n",
       "      <td>243637091</td>\n",
       "    </tr>\n",
       "    <tr>\n",
       "      <th>23</th>\n",
       "      <td>Comedy|Drama</td>\n",
       "      <td>4.648046</td>\n",
       "      <td>The Big Short</td>\n",
       "      <td>2015</td>\n",
       "      <td>28000000</td>\n",
       "      <td>133346506</td>\n",
       "    </tr>\n",
       "    <tr>\n",
       "      <th>25</th>\n",
       "      <td>Comedy</td>\n",
       "      <td>4.564549</td>\n",
       "      <td>Ted 2</td>\n",
       "      <td>2015</td>\n",
       "      <td>68000000</td>\n",
       "      <td>215863606</td>\n",
       "    </tr>\n",
       "    <tr>\n",
       "      <th>...</th>\n",
       "      <td>...</td>\n",
       "      <td>...</td>\n",
       "      <td>...</td>\n",
       "      <td>...</td>\n",
       "      <td>...</td>\n",
       "      <td>...</td>\n",
       "    </tr>\n",
       "    <tr>\n",
       "      <th>10835</th>\n",
       "      <td>Comedy|Drama|Family</td>\n",
       "      <td>0.140934</td>\n",
       "      <td>The Ugly Dachshund</td>\n",
       "      <td>1966</td>\n",
       "      <td>0</td>\n",
       "      <td>0</td>\n",
       "    </tr>\n",
       "    <tr>\n",
       "      <th>10837</th>\n",
       "      <td>Comedy|War</td>\n",
       "      <td>0.317824</td>\n",
       "      <td>The Russians Are Coming, The Russians Are Coming</td>\n",
       "      <td>1966</td>\n",
       "      <td>0</td>\n",
       "      <td>0</td>\n",
       "    </tr>\n",
       "    <tr>\n",
       "      <th>10839</th>\n",
       "      <td>Comedy</td>\n",
       "      <td>0.087034</td>\n",
       "      <td>Carry On Screaming!</td>\n",
       "      <td>1966</td>\n",
       "      <td>0</td>\n",
       "      <td>0</td>\n",
       "    </tr>\n",
       "    <tr>\n",
       "      <th>10842</th>\n",
       "      <td>Mystery|Comedy</td>\n",
       "      <td>0.065141</td>\n",
       "      <td>Beregis Avtomobilya</td>\n",
       "      <td>1966</td>\n",
       "      <td>0</td>\n",
       "      <td>0</td>\n",
       "    </tr>\n",
       "    <tr>\n",
       "      <th>10843</th>\n",
       "      <td>Action|Comedy</td>\n",
       "      <td>0.064317</td>\n",
       "      <td>What's Up, Tiger Lily?</td>\n",
       "      <td>1966</td>\n",
       "      <td>0</td>\n",
       "      <td>0</td>\n",
       "    </tr>\n",
       "  </tbody>\n",
       "</table>\n",
       "<p>3782 rows × 6 columns</p>\n",
       "</div>"
      ],
      "text/plain": [
       "                                  genres  popularity  \\\n",
       "8      Family|Animation|Adventure|Comedy    7.404165   \n",
       "9                Comedy|Animation|Family    6.326804   \n",
       "12         Action|Comedy|Science Fiction    5.984995   \n",
       "23                          Comedy|Drama    4.648046   \n",
       "25                                Comedy    4.564549   \n",
       "...                                  ...         ...   \n",
       "10835                Comedy|Drama|Family    0.140934   \n",
       "10837                         Comedy|War    0.317824   \n",
       "10839                             Comedy    0.087034   \n",
       "10842                     Mystery|Comedy    0.065141   \n",
       "10843                      Action|Comedy    0.064317   \n",
       "\n",
       "                                         original_title release_year  \\\n",
       "8                                               Minions         2015   \n",
       "9                                            Inside Out         2015   \n",
       "12                                               Pixels         2015   \n",
       "23                                        The Big Short         2015   \n",
       "25                                                Ted 2         2015   \n",
       "...                                                 ...          ...   \n",
       "10835                                The Ugly Dachshund         1966   \n",
       "10837  The Russians Are Coming, The Russians Are Coming         1966   \n",
       "10839                               Carry On Screaming!         1966   \n",
       "10842                               Beregis Avtomobilya         1966   \n",
       "10843                            What's Up, Tiger Lily?         1966   \n",
       "\n",
       "          budget     revenue  \n",
       "8       74000000  1156730962  \n",
       "9      175000000   853708609  \n",
       "12      88000000   243637091  \n",
       "23      28000000   133346506  \n",
       "25      68000000   215863606  \n",
       "...          ...         ...  \n",
       "10835          0           0  \n",
       "10837          0           0  \n",
       "10839          0           0  \n",
       "10842          0           0  \n",
       "10843          0           0  \n",
       "\n",
       "[3782 rows x 6 columns]"
      ]
     },
     "execution_count": 14,
     "metadata": {},
     "output_type": "execute_result"
    }
   ],
   "source": [
    "comedy_df"
   ]
  },
  {
   "cell_type": "markdown",
   "id": "8099e589",
   "metadata": {},
   "source": [
    "#Here, I create an new array named genre_action and genre_comedy with 2365 values all named action and an new array named genre_comedy with 3782 values all named comedy "
   ]
  },
  {
   "cell_type": "code",
   "execution_count": 15,
   "id": "204543f9",
   "metadata": {},
   "outputs": [],
   "source": [
    "genre_action=np.repeat(\"action\",2365)"
   ]
  },
  {
   "cell_type": "code",
   "execution_count": 17,
   "id": "2cf5bbfe",
   "metadata": {},
   "outputs": [
    {
     "name": "stdout",
     "output_type": "stream",
     "text": [
      "['action' 'action' 'action' ... 'action' 'action' 'action']\n"
     ]
    }
   ],
   "source": [
    "print(genre_action)"
   ]
  },
  {
   "cell_type": "code",
   "execution_count": 18,
   "id": "a928ebfc",
   "metadata": {},
   "outputs": [],
   "source": [
    "genre_comedy=np.repeat(\"comedy\",3782)"
   ]
  },
  {
   "cell_type": "code",
   "execution_count": 19,
   "id": "76473c8a",
   "metadata": {},
   "outputs": [
    {
     "name": "stdout",
     "output_type": "stream",
     "text": [
      "['comedy' 'comedy' 'comedy' ... 'comedy' 'comedy' 'comedy']\n"
     ]
    }
   ],
   "source": [
    "print(genre_comedy)"
   ]
  },
  {
   "cell_type": "code",
   "execution_count": 20,
   "id": "846e259f",
   "metadata": {},
   "outputs": [
    {
     "name": "stderr",
     "output_type": "stream",
     "text": [
      "<ipython-input-20-8b00ff5a3a32>:1: SettingWithCopyWarning: \n",
      "A value is trying to be set on a copy of a slice from a DataFrame.\n",
      "Try using .loc[row_indexer,col_indexer] = value instead\n",
      "\n",
      "See the caveats in the documentation: https://pandas.pydata.org/pandas-docs/stable/user_guide/indexing.html#returning-a-view-versus-a-copy\n",
      "  comedy_df['genre']=genre_comedy\n"
     ]
    }
   ],
   "source": [
    "comedy_df['genre']=genre_comedy"
   ]
  },
  {
   "cell_type": "code",
   "execution_count": 21,
   "id": "177280f9",
   "metadata": {},
   "outputs": [
    {
     "name": "stdout",
     "output_type": "stream",
     "text": [
      "                                  genres  popularity  \\\n",
      "8      Family|Animation|Adventure|Comedy    7.404165   \n",
      "9                Comedy|Animation|Family    6.326804   \n",
      "12         Action|Comedy|Science Fiction    5.984995   \n",
      "23                          Comedy|Drama    4.648046   \n",
      "25                                Comedy    4.564549   \n",
      "...                                  ...         ...   \n",
      "10835                Comedy|Drama|Family    0.140934   \n",
      "10837                         Comedy|War    0.317824   \n",
      "10839                             Comedy    0.087034   \n",
      "10842                     Mystery|Comedy    0.065141   \n",
      "10843                      Action|Comedy    0.064317   \n",
      "\n",
      "                                         original_title release_year  \\\n",
      "8                                               Minions         2015   \n",
      "9                                            Inside Out         2015   \n",
      "12                                               Pixels         2015   \n",
      "23                                        The Big Short         2015   \n",
      "25                                                Ted 2         2015   \n",
      "...                                                 ...          ...   \n",
      "10835                                The Ugly Dachshund         1966   \n",
      "10837  The Russians Are Coming, The Russians Are Coming         1966   \n",
      "10839                               Carry On Screaming!         1966   \n",
      "10842                               Beregis Avtomobilya         1966   \n",
      "10843                            What's Up, Tiger Lily?         1966   \n",
      "\n",
      "          budget     revenue   genre  \n",
      "8       74000000  1156730962  comedy  \n",
      "9      175000000   853708609  comedy  \n",
      "12      88000000   243637091  comedy  \n",
      "23      28000000   133346506  comedy  \n",
      "25      68000000   215863606  comedy  \n",
      "...          ...         ...     ...  \n",
      "10835          0           0  comedy  \n",
      "10837          0           0  comedy  \n",
      "10839          0           0  comedy  \n",
      "10842          0           0  comedy  \n",
      "10843          0           0  comedy  \n",
      "\n",
      "[3782 rows x 7 columns]\n"
     ]
    }
   ],
   "source": [
    "print(comedy_df)"
   ]
  },
  {
   "cell_type": "markdown",
   "id": "e343687d",
   "metadata": {},
   "source": [
    "#assign the values in the array named genre_action to a new column genre in the action_df and the values in the array named genre_comedy to a new column genre in the comedy_df"
   ]
  },
  {
   "cell_type": "code",
   "execution_count": 22,
   "id": "5a3bb8f4",
   "metadata": {},
   "outputs": [
    {
     "name": "stderr",
     "output_type": "stream",
     "text": [
      "<ipython-input-22-6197a425f8cc>:1: SettingWithCopyWarning: \n",
      "A value is trying to be set on a copy of a slice from a DataFrame.\n",
      "Try using .loc[row_indexer,col_indexer] = value instead\n",
      "\n",
      "See the caveats in the documentation: https://pandas.pydata.org/pandas-docs/stable/user_guide/indexing.html#returning-a-view-versus-a-copy\n",
      "  action_df['genre']=genre_action\n"
     ]
    }
   ],
   "source": [
    "action_df['genre']=genre_action"
   ]
  },
  {
   "cell_type": "code",
   "execution_count": 23,
   "id": "56b936f7",
   "metadata": {},
   "outputs": [
    {
     "name": "stdout",
     "output_type": "stream",
     "text": [
      "                                          genres  popularity  \\\n",
      "0      Action|Adventure|Science Fiction|Thriller   32.985763   \n",
      "1      Action|Adventure|Science Fiction|Thriller   28.419936   \n",
      "3       Action|Adventure|Science Fiction|Fantasy   11.173104   \n",
      "4                          Action|Crime|Thriller    9.335014   \n",
      "6      Science Fiction|Action|Thriller|Adventure    8.654359   \n",
      "...                                          ...         ...   \n",
      "10829        Action|Drama|Thriller|Crime|Mystery    0.202473   \n",
      "10830      Adventure|Drama|Action|Family|Foreign    0.342791   \n",
      "10836                             Action|Western    0.131378   \n",
      "10841                     Action|Adventure|Drama    0.065543   \n",
      "10843                              Action|Comedy    0.064317   \n",
      "\n",
      "                     original_title release_year     budget     revenue  \\\n",
      "0                    Jurassic World         2015  150000000  1513528810   \n",
      "1                Mad Max: Fury Road         2015  150000000   378436354   \n",
      "3      Star Wars: The Force Awakens         2015  200000000  2068178225   \n",
      "4                         Furious 7         2015  190000000  1506249360   \n",
      "6                Terminator Genisys         2015  155000000   440603537   \n",
      "...                             ...          ...        ...         ...   \n",
      "10829                        Harper         1966          0           0   \n",
      "10830                     Born Free         1966          0           0   \n",
      "10836                  Nevada Smith         1966          0           0   \n",
      "10841                    Grand Prix         1966          0           0   \n",
      "10843        What's Up, Tiger Lily?         1966          0           0   \n",
      "\n",
      "        genre  \n",
      "0      action  \n",
      "1      action  \n",
      "3      action  \n",
      "4      action  \n",
      "6      action  \n",
      "...       ...  \n",
      "10829  action  \n",
      "10830  action  \n",
      "10836  action  \n",
      "10841  action  \n",
      "10843  action  \n",
      "\n",
      "[2365 rows x 7 columns]\n"
     ]
    }
   ],
   "source": [
    "print(action_df)"
   ]
  },
  {
   "cell_type": "markdown",
   "id": "70bf2202",
   "metadata": {},
   "source": [
    "#movie_df is the combination of the action_df and comedy_df"
   ]
  },
  {
   "cell_type": "code",
   "execution_count": 25,
   "id": "f8062c54",
   "metadata": {},
   "outputs": [],
   "source": [
    "movie_df=action_df.append(comedy_df)"
   ]
  },
  {
   "cell_type": "code",
   "execution_count": 26,
   "id": "5c14f35e",
   "metadata": {},
   "outputs": [
    {
     "name": "stdout",
     "output_type": "stream",
     "text": [
      "                                          genres  popularity  \\\n",
      "0      Action|Adventure|Science Fiction|Thriller   32.985763   \n",
      "1      Action|Adventure|Science Fiction|Thriller   28.419936   \n",
      "3       Action|Adventure|Science Fiction|Fantasy   11.173104   \n",
      "4                          Action|Crime|Thriller    9.335014   \n",
      "6      Science Fiction|Action|Thriller|Adventure    8.654359   \n",
      "...                                          ...         ...   \n",
      "10835                        Comedy|Drama|Family    0.140934   \n",
      "10837                                 Comedy|War    0.317824   \n",
      "10839                                     Comedy    0.087034   \n",
      "10842                             Mystery|Comedy    0.065141   \n",
      "10843                              Action|Comedy    0.064317   \n",
      "\n",
      "                                         original_title release_year  \\\n",
      "0                                        Jurassic World         2015   \n",
      "1                                    Mad Max: Fury Road         2015   \n",
      "3                          Star Wars: The Force Awakens         2015   \n",
      "4                                             Furious 7         2015   \n",
      "6                                    Terminator Genisys         2015   \n",
      "...                                                 ...          ...   \n",
      "10835                                The Ugly Dachshund         1966   \n",
      "10837  The Russians Are Coming, The Russians Are Coming         1966   \n",
      "10839                               Carry On Screaming!         1966   \n",
      "10842                               Beregis Avtomobilya         1966   \n",
      "10843                            What's Up, Tiger Lily?         1966   \n",
      "\n",
      "          budget     revenue   genre  \n",
      "0      150000000  1513528810  action  \n",
      "1      150000000   378436354  action  \n",
      "3      200000000  2068178225  action  \n",
      "4      190000000  1506249360  action  \n",
      "6      155000000   440603537  action  \n",
      "...          ...         ...     ...  \n",
      "10835          0           0  comedy  \n",
      "10837          0           0  comedy  \n",
      "10839          0           0  comedy  \n",
      "10842          0           0  comedy  \n",
      "10843          0           0  comedy  \n",
      "\n",
      "[6147 rows x 7 columns]\n"
     ]
    }
   ],
   "source": [
    "print(movie_df)"
   ]
  },
  {
   "cell_type": "markdown",
   "id": "e1e90a42",
   "metadata": {},
   "source": [
    "<a id='eda'></a>\n",
    "## Exploratory Data Analysis"
   ]
  },
  {
   "cell_type": "markdown",
   "id": "7601a777",
   "metadata": {},
   "source": [
    "## Q1:Which genre receive higher revenue, action or comedy? "
   ]
  },
  {
   "cell_type": "code",
   "execution_count": 39,
   "id": "47ef4275",
   "metadata": {},
   "outputs": [],
   "source": [
    "genre_groupby=movie_df.groupby('genre').mean()"
   ]
  },
  {
   "cell_type": "code",
   "execution_count": 40,
   "id": "eb998b99",
   "metadata": {},
   "outputs": [
    {
     "name": "stdout",
     "output_type": "stream",
     "text": [
      "        popularity        budget       revenue\n",
      "genre                                         \n",
      "action    0.926496  2.778187e+07  7.305185e+07\n",
      "comedy    0.593285  1.332417e+07  3.760735e+07\n"
     ]
    }
   ],
   "source": [
    "print(genre_groupby)"
   ]
  },
  {
   "cell_type": "code",
   "execution_count": 27,
   "id": "30afa256",
   "metadata": {},
   "outputs": [
    {
     "data": {
      "text/plain": [
       "Text(0, 0.5, 'revenue')"
      ]
     },
     "execution_count": 27,
     "metadata": {},
     "output_type": "execute_result"
    },
    {
     "data": {
      "image/png": "[encoded data removed]",
      "text/plain": [
       "<Figure size 432x288 with 1 Axes>"
      ]
     },
     "metadata": {
      "needs_background": "light"
     },
     "output_type": "display_data"
    }
   ],
   "source": [
    "colors=['orange', 'purple']\n",
    "ax=movie_df.groupby('genre').mean()['revenue'].plot(kind='bar', title='Average revenue by genre', color=colors)\n",
    "ax.set_ylabel('revenue')"
   ]
  },
  {
   "cell_type": "markdown",
   "id": "6140ab16",
   "metadata": {},
   "source": [
    "## Q2: Which one is more likely to have higher popularity, comedy or action?"
   ]
  },
  {
   "cell_type": "markdown",
   "id": "293adb46",
   "metadata": {},
   "source": [
    "#calculated the median popularity in data set new_data, select all rows in movie_df that having popularity >=0.384958(median), later groupby using genre, then count how many comedy and action match that criteria"
   ]
  },
  {
   "cell_type": "code",
   "execution_count": 28,
   "id": "f820d66f",
   "metadata": {},
   "outputs": [
    {
     "data": {
      "text/plain": [
       "0.384958"
      ]
     },
     "execution_count": 28,
     "metadata": {},
     "output_type": "execute_result"
    }
   ],
   "source": [
    "new_data['popularity'].median()"
   ]
  },
  {
   "cell_type": "code",
   "execution_count": 29,
   "id": "34548865",
   "metadata": {},
   "outputs": [],
   "source": [
    "popularity_high=movie_df.query('popularity >= 0.384958')"
   ]
  },
  {
   "cell_type": "code",
   "execution_count": 30,
   "id": "71074533",
   "metadata": {},
   "outputs": [
    {
     "name": "stdout",
     "output_type": "stream",
     "text": [
      "                                              genres  popularity  \\\n",
      "0          Action|Adventure|Science Fiction|Thriller   32.985763   \n",
      "1          Action|Adventure|Science Fiction|Thriller   28.419936   \n",
      "3           Action|Adventure|Science Fiction|Fantasy   11.173104   \n",
      "4                              Action|Crime|Thriller    9.335014   \n",
      "6          Science Fiction|Action|Thriller|Adventure    8.654359   \n",
      "...                                              ...         ...   \n",
      "10789                  Comedy|Horror|Science Fiction    0.409587   \n",
      "10799                        Animation|Family|Comedy    1.227582   \n",
      "10806  Family|Adventure|Comedy|Science Fiction|Crime    0.410366   \n",
      "10810                                 Romance|Comedy    0.529721   \n",
      "10812                           Comedy|Crime|Romance    0.737730   \n",
      "\n",
      "                        original_title release_year     budget     revenue  \\\n",
      "0                       Jurassic World         2015  150000000  1513528810   \n",
      "1                   Mad Max: Fury Road         2015  150000000   378436354   \n",
      "3         Star Wars: The Force Awakens         2015  200000000  2068178225   \n",
      "4                            Furious 7         2015  190000000  1506249360   \n",
      "6                   Terminator Genisys         2015  155000000   440603537   \n",
      "...                                ...          ...        ...         ...   \n",
      "10789   Attack of the Killer Tomatoes!         1978      90000           0   \n",
      "10799  How the Grinch Stole Christmas!         1966     315000           0   \n",
      "10806                           Batman         1966    1377800           0   \n",
      "10810               The Fortune Cookie         1966          0           0   \n",
      "10812           How to Steal a Million         1966          0           0   \n",
      "\n",
      "        genre  \n",
      "0      action  \n",
      "1      action  \n",
      "3      action  \n",
      "4      action  \n",
      "6      action  \n",
      "...       ...  \n",
      "10789  comedy  \n",
      "10799  comedy  \n",
      "10806  comedy  \n",
      "10810  comedy  \n",
      "10812  comedy  \n",
      "\n",
      "[3327 rows x 7 columns]\n"
     ]
    }
   ],
   "source": [
    "print(popularity_high)"
   ]
  },
  {
   "cell_type": "code",
   "execution_count": 31,
   "id": "c3d45b01",
   "metadata": {},
   "outputs": [],
   "source": [
    "total=new_data.query('popularity >=0.384958').count()['popularity']"
   ]
  },
  {
   "cell_type": "code",
   "execution_count": 32,
   "id": "24c8b6e7",
   "metadata": {},
   "outputs": [
    {
     "name": "stdout",
     "output_type": "stream",
     "text": [
      "5408\n"
     ]
    }
   ],
   "source": [
    "print(total)"
   ]
  },
  {
   "cell_type": "code",
   "execution_count": 33,
   "id": "11ac0e52",
   "metadata": {},
   "outputs": [],
   "source": [
    "genre_high=popularity_high.groupby('genre').count()['popularity']"
   ]
  },
  {
   "cell_type": "code",
   "execution_count": 34,
   "id": "997148de",
   "metadata": {},
   "outputs": [
    {
     "name": "stdout",
     "output_type": "stream",
     "text": [
      "genre\n",
      "action    1409\n",
      "comedy    1918\n",
      "Name: popularity, dtype: int64\n"
     ]
    }
   ],
   "source": [
    "print(genre_high)"
   ]
  },
  {
   "cell_type": "markdown",
   "id": "4770d20f",
   "metadata": {},
   "source": [
    "#to see which one is more likely to have higher popularity, I calculated the proportion of comedy or action in the entire datasets that having popularity >=median 0.384958"
   ]
  },
  {
   "cell_type": "code",
   "execution_count": 36,
   "id": "0c34cd16",
   "metadata": {},
   "outputs": [
    {
     "data": {
      "text/plain": [
       "Text(0, 0.5, 'proportion')"
      ]
     },
     "execution_count": 36,
     "metadata": {},
     "output_type": "execute_result"
    },
    {
     "data": {
      "image/png": "[encoded data removed]",
      "text/plain": [
       "<Figure size 432x288 with 1 Axes>"
      ]
     },
     "metadata": {
      "needs_background": "light"
     },
     "output_type": "display_data"
    }
   ],
   "source": [
    "colors=['blue','green']\n",
    "total=new_data.query('popularity >=0.384958').count()['popularity']\n",
    "proportions=genre_high/total\n",
    "ax2=proportions.plot(kind='bar', title= 'popularity proportion',color=colors)\n",
    "ax2.set_ylabel('proportion')"
   ]
  },
  {
   "cell_type": "markdown",
   "id": "a6a747a0",
   "metadata": {},
   "source": [
    "# Conclusions: Action movie has higher reveune than comedy movie. Comedy movie is more likely to have higher popularity. "
   ]
  },
  {
   "cell_type": "code",
   "execution_count": null,
   "id": "89918446",
   "metadata": {},
   "outputs": [],
   "source": []
  }
 ],
 "metadata": {
  "kernelspec": {
   "display_name": "Python 3",
   "language": "python",
   "name": "python3"
  },
  "language_info": {
   "codemirror_mode": {
    "name": "ipython",
    "version": 3
   },
   "file_extension": ".py",
   "mimetype": "text/x-python",
   "name": "python",
   "nbconvert_exporter": "python",
   "pygments_lexer": "ipython3",
   "version": "3.8.8"
  }
 },
 "nbformat": 4,
 "nbformat_minor": 5
}
